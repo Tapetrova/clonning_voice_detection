{
 "cells": [
  {
   "cell_type": "markdown",
   "source": [
    "# Voice Embedding Analytics\n",
    "This notebook visualizes the voice embeddings using different dimensionality reduction techniques.\n",
    "We use PCA, t-SNE, and UMAP for visualization."
   ],
   "metadata": {
    "collapsed": false
   },
   "id": "2e4b4d09e360e2e1"
  },
  {
   "cell_type": "code",
   "execution_count": 5,
   "id": "initial_id",
   "metadata": {
    "collapsed": true,
    "id": "initial_id",
    "executionInfo": {
     "status": "aborted",
     "timestamp": 1711226041253,
     "user_tz": -180,
     "elapsed": 2,
     "user": {
      "displayName": "Tatyana Petrova",
      "userId": "04183311951534085689"
     }
    },
    "ExecuteTime": {
     "end_time": "2024-03-25T15:40:08.465097Z",
     "start_time": "2024-03-25T15:40:08.461947Z"
    }
   },
   "outputs": [],
   "source": [
    "# Import necessary libraries\n",
    "import numpy as np\n",
    "import os\n",
    "from audio2vector import extract_embeddings_for_directory, calculate_cosine_similarities\n",
    "from visualization import plot_embeddings_with_pca, plot_embeddings_with_tsne, plot_embeddings_with_umap\n"
   ]
  },
  {
   "cell_type": "code",
   "outputs": [],
   "source": [
    "# Set the path to the directory containing your audio files\n",
    "directory_path = \"audio_samples/an4/an4test_clst\"\n",
    "\n",
    "# Extract embeddings\n",
    "embeddings = extract_embeddings_for_directory(directory_path)\n",
    "\n",
    "# Display the number of embeddings extracted\n",
    "print(f\"Total embeddings extracted: {len(embeddings)}\")\n",
    "\n",
    "# Visualize embeddings using PCA\n",
    "plot_embeddings_with_pca(embeddings)\n",
    "\n",
    "# Visualize embeddings using t-SNE\n",
    "plot_embeddings_with_tsne(embeddings)\n",
    "\n",
    "# Visualize embeddings using UMAP\n",
    "plot_embeddings_with_umap(embeddings)\n",
    "\n",
    "# Calculate cosine similarities among embeddings\n",
    "calculate_cosine_similarities(embeddings)"
   ],
   "metadata": {
    "collapsed": false
   },
   "id": "306c861bfbfd55c0"
  }
 ],
 "metadata": {
  "kernelspec": {
   "name": "python3",
   "language": "python",
   "display_name": "Python 3 (ipykernel)"
  },
  "language_info": {
   "codemirror_mode": {
    "name": "ipython",
    "version": 2
   },
   "file_extension": ".py",
   "mimetype": "text/x-python",
   "name": "python",
   "nbconvert_exporter": "python",
   "pygments_lexer": "ipython2",
   "version": "2.7.6"
  },
  "colab": {
   "provenance": []
  }
 },
 "nbformat": 4,
 "nbformat_minor": 5
}
